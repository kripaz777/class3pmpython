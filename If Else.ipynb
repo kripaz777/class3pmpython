{
 "cells": [
  {
   "cell_type": "code",
   "execution_count": 1,
   "id": "885af95c",
   "metadata": {},
   "outputs": [],
   "source": [
    "# Comparison Operator\n",
    "# < > <= >= == !="
   ]
  },
  {
   "cell_type": "code",
   "execution_count": 3,
   "id": "2224475d",
   "metadata": {},
   "outputs": [
    {
     "name": "stdout",
     "output_type": "stream",
     "text": [
      "True\n"
     ]
    }
   ],
   "source": [
    "a = 10\n",
    "b = 20\n",
    "print(a<b)"
   ]
  },
  {
   "cell_type": "code",
   "execution_count": 7,
   "id": "a0141d43",
   "metadata": {},
   "outputs": [
    {
     "name": "stdout",
     "output_type": "stream",
     "text": [
      "True\n"
     ]
    }
   ],
   "source": [
    "a = 9\n",
    "b = 10\n",
    "print(a!=b)"
   ]
  },
  {
   "cell_type": "code",
   "execution_count": null,
   "id": "eaf817e5",
   "metadata": {},
   "outputs": [],
   "source": [
    "# if <condition>:\n",
    "#     <operations>\n",
    "# elif <condition>:\n",
    "#     <operations>\n",
    "\n",
    "# .....\n",
    "# else:\n",
    "#     <operations>"
   ]
  },
  {
   "cell_type": "code",
   "execution_count": 10,
   "id": "baf94298",
   "metadata": {},
   "outputs": [
    {
     "name": "stdout",
     "output_type": "stream",
     "text": [
      "Enter a = 11\n",
      "The value is odd\n"
     ]
    }
   ],
   "source": [
    "a = int(input(\"Enter a = \"))\n",
    "if a%2 ==0:\n",
    "    print(\"The value is even\")\n",
    "else:\n",
    "    print(\"The value is odd\")"
   ]
  },
  {
   "cell_type": "code",
   "execution_count": 11,
   "id": "90a89095",
   "metadata": {},
   "outputs": [
    {
     "name": "stdout",
     "output_type": "stream",
     "text": [
      "Enter a = 10\n",
      "Enter b = 11\n",
      "11 is greater.\n"
     ]
    }
   ],
   "source": [
    "a = int(input(\"Enter a = \"))\n",
    "b = int(input(\"Enter b = \"))\n",
    "if a>b:\n",
    "    print(a,\"is greater.\")\n",
    "elif b>a:\n",
    "    print(b,\"is greater.\")\n",
    "else:\n",
    "    print(\"a and b both area equal\")"
   ]
  },
  {
   "cell_type": "code",
   "execution_count": 13,
   "id": "3f2b9914",
   "metadata": {},
   "outputs": [
    {
     "name": "stdout",
     "output_type": "stream",
     "text": [
      "Enter a = 10\n",
      "Enter b = 0\n",
      "Enter + - / * /\n"
     ]
    },
    {
     "ename": "ZeroDivisionError",
     "evalue": "division by zero",
     "output_type": "error",
     "traceback": [
      "\u001b[1;31m---------------------------------------------------------------------------\u001b[0m",
      "\u001b[1;31mZeroDivisionError\u001b[0m                         Traceback (most recent call last)",
      "Input \u001b[1;32mIn [13]\u001b[0m, in \u001b[0;36m<cell line: 4>\u001b[1;34m()\u001b[0m\n\u001b[0;32m      9\u001b[0m     \u001b[38;5;28mprint\u001b[39m(a\u001b[38;5;241m*\u001b[39mb)\n\u001b[0;32m     10\u001b[0m \u001b[38;5;28;01melif\u001b[39;00m o \u001b[38;5;241m==\u001b[39m \u001b[38;5;124m'\u001b[39m\u001b[38;5;124m/\u001b[39m\u001b[38;5;124m'\u001b[39m:\n\u001b[1;32m---> 11\u001b[0m     \u001b[38;5;28mprint\u001b[39m(\u001b[43ma\u001b[49m\u001b[38;5;241;43m/\u001b[39;49m\u001b[43mb\u001b[49m)\n\u001b[0;32m     12\u001b[0m \u001b[38;5;28;01melse\u001b[39;00m:\n\u001b[0;32m     13\u001b[0m     \u001b[38;5;28mprint\u001b[39m(\u001b[38;5;124m\"\u001b[39m\u001b[38;5;124mInvalid operator!\u001b[39m\u001b[38;5;124m\"\u001b[39m)\n",
      "\u001b[1;31mZeroDivisionError\u001b[0m: division by zero"
     ]
    }
   ],
   "source": [
    "a = int(input(\"Enter a = \"))\n",
    "b = int(input(\"Enter b = \"))\n",
    "o = input(\"Enter + - / * \")\n",
    "if o == '+':\n",
    "    print(a+b)\n",
    "elif o == '-':\n",
    "    print(a-b)\n",
    "elif o == '*':\n",
    "    print(a*b)\n",
    "elif o == '/':\n",
    "    print(a/b)\n",
    "else:\n",
    "    print(\"Invalid operator!\")"
   ]
  },
  {
   "cell_type": "code",
   "execution_count": null,
   "id": "492c9a4e",
   "metadata": {},
   "outputs": [],
   "source": [
    "physics = int(input(\"Enter physics marks = \"))\n",
    "chemistry = int(input(\"Enter chemistry marks = \"))\n",
    "math = int(input(\"Enter math marks = \"))\n",
    "english = int(input(\"Enter english marks = \"))\n",
    "nepali = int(input(\"Enter nepali marks = \"))\n",
    "\n",
    "total = physics+chemistry+math+english+nepali\n",
    "per = total/5\n",
    "\n",
    "if per>=80:\n",
    "    grade = 'A'\n",
    "elif per>=60:\n",
    "    grade = 'B'\n",
    "elif per >=45:\n",
    "    grade = 'C':\n",
    "else:\n",
    "    grade = 'F'\n",
    "    \n",
    "print(\"The grade of the student = \",grade)"
   ]
  },
  {
   "cell_type": "code",
   "execution_count": 14,
   "id": "298c047a",
   "metadata": {},
   "outputs": [],
   "source": [
    "# Logical operator\n",
    "#and &\n",
    "#or |\n"
   ]
  },
  {
   "cell_type": "code",
   "execution_count": null,
   "id": "73e86714",
   "metadata": {},
   "outputs": [],
   "source": [
    "1*1 = 1\n",
    "1*0 = 0\n",
    "0*0 = 1\n",
    "0*1 = 0"
   ]
  },
  {
   "cell_type": "code",
   "execution_count": 15,
   "id": "7eafcbfe",
   "metadata": {},
   "outputs": [
    {
     "data": {
      "text/plain": [
       "False"
      ]
     },
     "execution_count": 15,
     "metadata": {},
     "output_type": "execute_result"
    }
   ],
   "source": [
    "a = True\n",
    "b = False\n",
    "a and b"
   ]
  },
  {
   "cell_type": "code",
   "execution_count": 16,
   "id": "746a1c64",
   "metadata": {},
   "outputs": [
    {
     "data": {
      "text/plain": [
       "True"
      ]
     },
     "execution_count": 16,
     "metadata": {},
     "output_type": "execute_result"
    }
   ],
   "source": [
    "a = True\n",
    "b = False\n",
    "a or b"
   ]
  },
  {
   "cell_type": "code",
   "execution_count": 17,
   "id": "ef6658c0",
   "metadata": {},
   "outputs": [
    {
     "name": "stdout",
     "output_type": "stream",
     "text": [
      "Enter a = 10\n",
      "Enter b = 0\n",
      "Enter + - / * /\n",
      "The value of b can not be zero.\n"
     ]
    }
   ],
   "source": [
    "a = int(input(\"Enter a = \"))\n",
    "b = int(input(\"Enter b = \"))\n",
    "o = input(\"Enter + - / * \")\n",
    "if o == '+':\n",
    "    print(a+b)\n",
    "elif o == '-':\n",
    "    print(a-b)\n",
    "elif o == '*':\n",
    "    print(a*b)\n",
    "elif o == '/' and b != 0:\n",
    "    print(a/b)\n",
    "elif o == '/' and b == 0:\n",
    "    print(\"The value of b can not be zero.\")\n",
    "else:\n",
    "    print(\"Invalid operator!\")"
   ]
  },
  {
   "cell_type": "code",
   "execution_count": null,
   "id": "ebc5e847",
   "metadata": {},
   "outputs": [],
   "source": [
    "physics = int(input(\"Enter physics marks = \"))\n",
    "chemistry = int(input(\"Enter chemistry marks = \"))\n",
    "math = int(input(\"Enter math marks = \"))\n",
    "english = int(input(\"Enter english marks = \"))\n",
    "nepali = int(input(\"Enter nepali marks = \"))\n",
    "\n",
    "total = physics+chemistry+math+english+nepali\n",
    "per = total/5\n",
    "\n",
    "if per>80 or per ==80:\n",
    "    grade = 'A'\n",
    "elif per>60 or per == 60:\n",
    "    grade = 'B'\n",
    "elif per >45 or per == 45:\n",
    "    grade = 'C':\n",
    "else:\n",
    "    grade = 'F'\n",
    "    \n",
    "print(\"The grade of the student = \",grade)"
   ]
  }
 ],
 "metadata": {
  "kernelspec": {
   "display_name": "Python 3 (ipykernel)",
   "language": "python",
   "name": "python3"
  },
  "language_info": {
   "codemirror_mode": {
    "name": "ipython",
    "version": 3
   },
   "file_extension": ".py",
   "mimetype": "text/x-python",
   "name": "python",
   "nbconvert_exporter": "python",
   "pygments_lexer": "ipython3",
   "version": "3.9.12"
  }
 },
 "nbformat": 4,
 "nbformat_minor": 5
}
