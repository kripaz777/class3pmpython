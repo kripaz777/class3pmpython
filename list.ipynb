{
 "cells": [
  {
   "cell_type": "code",
   "execution_count": 1,
   "id": "ab293102",
   "metadata": {},
   "outputs": [],
   "source": [
    "# Python collection\n",
    "# -List\n",
    "# -Tuple\n",
    "# -Dictionary\n",
    "# -Set"
   ]
  },
  {
   "cell_type": "code",
   "execution_count": 2,
   "id": "90254ce5",
   "metadata": {},
   "outputs": [],
   "source": [
    "# # List\n",
    "# -Multiple and duplicate data\n",
    "# -Indexing\n",
    "# -Ordered\n",
    "# -Mutable"
   ]
  },
  {
   "cell_type": "code",
   "execution_count": 5,
   "id": "6f7c3127",
   "metadata": {},
   "outputs": [
    {
     "name": "stdout",
     "output_type": "stream",
     "text": [
      "<class 'list'>\n",
      "<class 'list'>\n",
      "<class 'list'>\n"
     ]
    }
   ],
   "source": [
    "a = [1,2,3,4,5,6]\n",
    "b = ['Apple','Ball','Cat','dog','Apple']\n",
    "c = list()\n",
    "\n",
    "print(type(a))\n",
    "print(type(b))\n",
    "print(type(c))"
   ]
  },
  {
   "cell_type": "code",
   "execution_count": 6,
   "id": "f550fcbd",
   "metadata": {},
   "outputs": [
    {
     "name": "stdout",
     "output_type": "stream",
     "text": [
      "[1, 2, 3, 4, 5, 6]\n",
      "['Apple', 'Ball', 'Cat', 'dog', 'Apple']\n",
      "[]\n"
     ]
    }
   ],
   "source": [
    "print(a)\n",
    "print(b)\n",
    "print(c)"
   ]
  },
  {
   "cell_type": "code",
   "execution_count": 8,
   "id": "aad66ec1",
   "metadata": {
    "scrolled": true
   },
   "outputs": [
    {
     "name": "stdout",
     "output_type": "stream",
     "text": [
      "Apple\n",
      "Ball\n"
     ]
    }
   ],
   "source": [
    "b = ['Apple','Ball','Cat','dog','Apple']\n",
    "print(b[0])\n",
    "print(b[1])"
   ]
  },
  {
   "cell_type": "code",
   "execution_count": 9,
   "id": "4556ec95",
   "metadata": {},
   "outputs": [
    {
     "data": {
      "text/plain": [
       "['Apple', 'Ball', 'Cat']"
      ]
     },
     "execution_count": 9,
     "metadata": {},
     "output_type": "execute_result"
    }
   ],
   "source": [
    "a = ['Apple','Ball','Cat','dog','Apple']\n",
    "b = a[0:3]\n",
    "b"
   ]
  },
  {
   "cell_type": "code",
   "execution_count": 10,
   "id": "cf3a5e79",
   "metadata": {},
   "outputs": [
    {
     "data": {
      "text/plain": [
       "['Apple', 'Cat', 'Apple']"
      ]
     },
     "execution_count": 10,
     "metadata": {},
     "output_type": "execute_result"
    }
   ],
   "source": [
    "a = ['Apple','Ball','Cat','dog','Apple']\n",
    "a[0:6:2]"
   ]
  },
  {
   "cell_type": "code",
   "execution_count": 11,
   "id": "928a0ffb",
   "metadata": {},
   "outputs": [
    {
     "name": "stdout",
     "output_type": "stream",
     "text": [
      "['Apple', 'Ball', 'Cat', 'dog', 'Apple', 1, 2, 3]\n"
     ]
    }
   ],
   "source": [
    "# + *\n",
    "a = ['Apple','Ball','Cat','dog','Apple']\n",
    "b = [1,2,3]\n",
    "c = a+b\n",
    "print(c)"
   ]
  },
  {
   "cell_type": "code",
   "execution_count": 12,
   "id": "29b753cb",
   "metadata": {},
   "outputs": [
    {
     "name": "stdout",
     "output_type": "stream",
     "text": [
      "['Apple', 'Ball', 'Cat', 'dog', 'Apple', 'Apple', 'Ball', 'Cat', 'dog', 'Apple']\n"
     ]
    }
   ],
   "source": [
    "a = ['Apple','Ball','Cat','dog','Apple']\n",
    "print(a*2)"
   ]
  },
  {
   "cell_type": "code",
   "execution_count": 13,
   "id": "abf29a45",
   "metadata": {},
   "outputs": [
    {
     "name": "stdout",
     "output_type": "stream",
     "text": [
      "Enter n = 5\n",
      "Enter x = 243\n",
      "Enter x = 456\n",
      "Enter x = 756\n",
      "Enter x = 24\n",
      "Enter x = 57\n",
      "[243, 456, 756, 24, 57]\n"
     ]
    }
   ],
   "source": [
    "a = []\n",
    "n = int(input(\"Enter n = \"))\n",
    "for i in range(n):\n",
    "    x = int(input(\"Enter x = \"))\n",
    "    a = a+[x]\n",
    "    \n",
    "print(a)"
   ]
  },
  {
   "cell_type": "code",
   "execution_count": 18,
   "id": "bf5f58cb",
   "metadata": {},
   "outputs": [
    {
     "name": "stdout",
     "output_type": "stream",
     "text": [
      "The max value in a 756\n",
      "The max value in a 24\n",
      "The sum of the list is 1536\n",
      "The avg of the no in the list is 307.2\n",
      "[24, 57, 243, 456, 756]\n",
      "[756, 456, 243, 57, 24]\n"
     ]
    }
   ],
   "source": [
    "a = [243, 456, 756, 24, 57]\n",
    "print(\"The max value in a\",max(a))\n",
    "print(\"The max value in a\",min(a))\n",
    "print(\"The sum of the list is\",sum(a))\n",
    "print(\"The avg of the no in the list is\",sum(a)/len(a))\n",
    "a.sort()\n",
    "print(a)\n",
    "a.reverse()\n",
    "print(a)"
   ]
  },
  {
   "cell_type": "code",
   "execution_count": 19,
   "id": "cd6c7af8",
   "metadata": {},
   "outputs": [],
   "source": [
    "# input data\n",
    "# append() insert() extend()\n",
    "\n",
    "# delete data\n",
    "# del remove() pop()"
   ]
  },
  {
   "cell_type": "code",
   "execution_count": 21,
   "id": "297ea6b1",
   "metadata": {},
   "outputs": [
    {
     "data": {
      "text/plain": [
       "['Apple', 'Ball']"
      ]
     },
     "execution_count": 21,
     "metadata": {},
     "output_type": "execute_result"
    }
   ],
   "source": [
    "a = []\n",
    "a.append(\"Apple\")\n",
    "a.append(\"Ball\")\n",
    "a"
   ]
  },
  {
   "cell_type": "code",
   "execution_count": 22,
   "id": "d540560a",
   "metadata": {},
   "outputs": [
    {
     "data": {
      "text/plain": [
       "['Apple', 'Ball', 'Cat', 'dog', 'Apple', 'Fish']"
      ]
     },
     "execution_count": 22,
     "metadata": {},
     "output_type": "execute_result"
    }
   ],
   "source": [
    "a = ['Apple','Ball','Cat','dog','Apple']\n",
    "a.append(\"Fish\")\n",
    "a"
   ]
  },
  {
   "cell_type": "code",
   "execution_count": 24,
   "id": "5ce663e8",
   "metadata": {},
   "outputs": [
    {
     "data": {
      "text/plain": [
       "['Apple', 'Ball', 'cat', 'Cat', 'dog', 'Apple']"
      ]
     },
     "execution_count": 24,
     "metadata": {},
     "output_type": "execute_result"
    }
   ],
   "source": [
    "a = ['Apple','Ball','Cat','dog','Apple']\n",
    "a.insert(2,\"cat\")\n",
    "a"
   ]
  },
  {
   "cell_type": "code",
   "execution_count": 27,
   "id": "eb196f5e",
   "metadata": {},
   "outputs": [
    {
     "data": {
      "text/plain": [
       "['Apple', 'Ball', 'Cat', 'dog', 'Apple', 1, 2, 3, 4, 5, 6, 7, 8, 9]"
      ]
     },
     "execution_count": 27,
     "metadata": {},
     "output_type": "execute_result"
    }
   ],
   "source": [
    "a = ['Apple','Ball','Cat','dog','Apple']\n",
    "a.extend([1,2,3,4,5,6,7,8,9])\n",
    "a"
   ]
  },
  {
   "cell_type": "code",
   "execution_count": 28,
   "id": "a9f36f93",
   "metadata": {},
   "outputs": [
    {
     "name": "stdout",
     "output_type": "stream",
     "text": [
      "Apple\n",
      "Ball\n",
      "Cat\n",
      "dog\n",
      "Apple\n"
     ]
    }
   ],
   "source": [
    "# Reading\n",
    "a = ['Apple','Ball','Cat','dog','Apple']\n",
    "for i in a:\n",
    "    print(i)"
   ]
  },
  {
   "cell_type": "code",
   "execution_count": null,
   "id": "5be1643e",
   "metadata": {},
   "outputs": [],
   "source": [
    "a = []\n",
    "n = int(input(\"Enter n = \"))\n",
    "for i in range(n):\n",
    "    x = int(input(\"Enter x = \"))\n",
    "    a.append(x)\n",
    "    \n",
    "print(a)"
   ]
  },
  {
   "cell_type": "code",
   "execution_count": 30,
   "id": "009b3eca",
   "metadata": {},
   "outputs": [
    {
     "data": {
      "text/plain": [
       "['apple', 'Ball', 'Cat', 'dog', 'Apple']"
      ]
     },
     "execution_count": 30,
     "metadata": {},
     "output_type": "execute_result"
    }
   ],
   "source": [
    "#Update\n",
    "a = ['Apple','Ball','Cat','dog','Apple']\n",
    "a[0] = 'apple'\n",
    "a"
   ]
  },
  {
   "cell_type": "code",
   "execution_count": 31,
   "id": "3dbcddbe",
   "metadata": {},
   "outputs": [
    {
     "data": {
      "text/plain": [
       "['apple', 'ball', 'Cat', 'dog', 'Apple']"
      ]
     },
     "execution_count": 31,
     "metadata": {},
     "output_type": "execute_result"
    }
   ],
   "source": [
    "a = ['Apple','Ball','Cat','dog','Apple']\n",
    "a[0:2] = ['apple','ball']\n",
    "a"
   ]
  },
  {
   "cell_type": "code",
   "execution_count": 32,
   "id": "222f2de2",
   "metadata": {},
   "outputs": [
    {
     "name": "stdout",
     "output_type": "stream",
     "text": [
      "['Ball', 'Cat', 'dog', 'Apple']\n"
     ]
    }
   ],
   "source": [
    "# del remove() pop()\n",
    "a = ['Apple','Ball','Cat','dog','Apple']\n",
    "del a[0]\n",
    "print(a)"
   ]
  },
  {
   "cell_type": "code",
   "execution_count": 33,
   "id": "5a9f944f",
   "metadata": {},
   "outputs": [
    {
     "data": {
      "text/plain": [
       "['dog', 'Apple']"
      ]
     },
     "execution_count": 33,
     "metadata": {},
     "output_type": "execute_result"
    }
   ],
   "source": [
    "a = ['Apple','Ball','Cat','dog','Apple']\n",
    "del a[0:3]\n",
    "a"
   ]
  },
  {
   "cell_type": "code",
   "execution_count": 34,
   "id": "7711252d",
   "metadata": {},
   "outputs": [
    {
     "data": {
      "text/plain": [
       "['Apple', 'Cat', 'dog', 'Apple']"
      ]
     },
     "execution_count": 34,
     "metadata": {},
     "output_type": "execute_result"
    }
   ],
   "source": [
    "a = ['Apple','Ball','Cat','dog','Apple']\n",
    "a.remove('Ball')\n",
    "a"
   ]
  },
  {
   "cell_type": "code",
   "execution_count": 37,
   "id": "88ca34ea",
   "metadata": {},
   "outputs": [
    {
     "name": "stdout",
     "output_type": "stream",
     "text": [
      "2\n",
      "['Ball', 'Cat', 'dog']\n"
     ]
    }
   ],
   "source": [
    "a = ['Apple','Ball','Cat','dog','Apple']\n",
    "c = a.count(\"Apple\")\n",
    "print(c)\n",
    "for i in range(c):\n",
    "    a.remove('Apple')\n",
    "print(a)"
   ]
  },
  {
   "cell_type": "code",
   "execution_count": 39,
   "id": "276ee2a8",
   "metadata": {},
   "outputs": [
    {
     "name": "stdout",
     "output_type": "stream",
     "text": [
      "['Ball', 'Cat', 'dog', 'Apple']\n",
      "Apple\n"
     ]
    }
   ],
   "source": [
    "a = ['Apple','Ball','Cat','dog','Apple']\n",
    "b = a.pop(0)\n",
    "print(a)\n",
    "print(b)"
   ]
  },
  {
   "cell_type": "code",
   "execution_count": 40,
   "id": "a3cfffc8",
   "metadata": {},
   "outputs": [
    {
     "data": {
      "text/plain": [
       "1"
      ]
     },
     "execution_count": 40,
     "metadata": {},
     "output_type": "execute_result"
    }
   ],
   "source": [
    "a = ['Apple','Ball','Cat','dog','Apple']\n",
    "a.index('Ball')"
   ]
  },
  {
   "cell_type": "code",
   "execution_count": 43,
   "id": "7694fb1a",
   "metadata": {},
   "outputs": [
    {
     "name": "stdout",
     "output_type": "stream",
     "text": [
      "0\n",
      "4\n"
     ]
    }
   ],
   "source": [
    "a = ['Apple','Ball','Cat','dog','Apple']\n",
    "l = len(a)\n",
    "for i in range(l):\n",
    "    if a[i] == 'Apple':\n",
    "        print(i)"
   ]
  },
  {
   "cell_type": "code",
   "execution_count": 44,
   "id": "d9e52fe3",
   "metadata": {},
   "outputs": [
    {
     "name": "stdout",
     "output_type": "stream",
     "text": [
      "Apple\n",
      "Ball\n",
      "Cat\n",
      "dog\n",
      "Apple\n"
     ]
    }
   ],
   "source": [
    "a = ['Apple','Ball','Cat','dog','Apple']\n",
    "l = len(a)\n",
    "i = 0\n",
    "while i<l:\n",
    "    print(a[i])\n",
    "    i = i+1"
   ]
  },
  {
   "cell_type": "code",
   "execution_count": 46,
   "id": "896aa1ab",
   "metadata": {},
   "outputs": [
    {
     "name": "stdout",
     "output_type": "stream",
     "text": [
      "<class 'list'>\n",
      "3\n"
     ]
    }
   ],
   "source": [
    "# list inside list\n",
    "a = [[1,2,3],\n",
    "     [4,5,6],\n",
    "     [7,8,9]]\n",
    "print(type(a))\n",
    "print(len(a))"
   ]
  },
  {
   "cell_type": "code",
   "execution_count": 50,
   "id": "0e5d5552",
   "metadata": {},
   "outputs": [
    {
     "name": "stdout",
     "output_type": "stream",
     "text": [
      "[[1, 2, 3], [4, 5, 6], [7, 8, 9]]\n",
      "[7, 8, 9]\n"
     ]
    }
   ],
   "source": [
    "print(a)\n",
    "print(a[2])"
   ]
  },
  {
   "cell_type": "code",
   "execution_count": 53,
   "id": "278ec983",
   "metadata": {},
   "outputs": [
    {
     "data": {
      "text/plain": [
       "2"
      ]
     },
     "execution_count": 53,
     "metadata": {},
     "output_type": "execute_result"
    }
   ],
   "source": [
    "a[0][1]"
   ]
  },
  {
   "cell_type": "code",
   "execution_count": 2,
   "id": "7847e9cb",
   "metadata": {},
   "outputs": [],
   "source": [
    "# list inside list\n",
    "# a = [[\"ram\",23,\"Kathmandu\"],\n",
    "#     ['Shyam',45,\"Bhaktapur\",\n",
    "#     [\"Hari\",34,\"Lalitpur\"]]"
   ]
  },
  {
   "cell_type": "code",
   "execution_count": 3,
   "id": "6fd0a96c",
   "metadata": {},
   "outputs": [
    {
     "name": "stdout",
     "output_type": "stream",
     "text": [
      "Enter n = 2\n",
      "Enter name = Ram\n",
      "Enter age = 45\n",
      "Enter address = Kathmandu\n",
      "Enter name = Shyam\n",
      "Enter age = 23\n",
      "Enter address = Bhaktapur\n",
      "[['Ram', 45, 'Kathmandu'], ['Shyam', 23, 'Bhaktapur']]\n"
     ]
    }
   ],
   "source": [
    "data = []\n",
    "n = int(input(\"Enter n = \"))\n",
    "for i in range(n):\n",
    "    name = input(\"Enter name = \")\n",
    "    age = int(input(\"Enter age = \"))\n",
    "    add = input(\"Enter address = \")\n",
    "    data.append([name,age,add])\n",
    "    \n",
    "print(data)"
   ]
  },
  {
   "cell_type": "code",
   "execution_count": 7,
   "id": "a36ea65c",
   "metadata": {},
   "outputs": [
    {
     "name": "stdout",
     "output_type": "stream",
     "text": [
      "['Ram', 45, 'Kathmandu']\n"
     ]
    }
   ],
   "source": [
    "a = [['Ram', 45, 'Kathmandu'], ['Shyam', 23, 'Bhaktapur']]\n",
    "print(a[0])"
   ]
  },
  {
   "cell_type": "code",
   "execution_count": 8,
   "id": "2f369156",
   "metadata": {},
   "outputs": [
    {
     "name": "stdout",
     "output_type": "stream",
     "text": [
      "Ram\n"
     ]
    }
   ],
   "source": [
    "a = [['Ram', 45, 'Kathmandu'], ['Shyam', 23, 'Bhaktapur']]\n",
    "print(a[0][0])"
   ]
  },
  {
   "cell_type": "code",
   "execution_count": 10,
   "id": "cebff7db",
   "metadata": {},
   "outputs": [
    {
     "data": {
      "text/plain": [
       "[['Rama', 35, 'Patan'], ['Shyam', 23, 'Bhaktapur']]"
      ]
     },
     "execution_count": 10,
     "metadata": {},
     "output_type": "execute_result"
    }
   ],
   "source": [
    "a = [['Ram', 45, 'Kathmandu'], ['Shyam', 23, 'Bhaktapur']]\n",
    "a[0] = ['Rama', 35, 'Patan']\n",
    "a"
   ]
  },
  {
   "cell_type": "code",
   "execution_count": 12,
   "id": "dae2f264",
   "metadata": {},
   "outputs": [
    {
     "data": {
      "text/plain": [
       "[['Rama', 45, 'Kathmandu'], ['Shyam', 23, 'Bhaktapur']]"
      ]
     },
     "execution_count": 12,
     "metadata": {},
     "output_type": "execute_result"
    }
   ],
   "source": [
    "a = [['Ram', 45, 'Kathmandu'], ['Shyam', 23, 'Bhaktapur']]\n",
    "a[0][0] = 'Rama'\n",
    "a"
   ]
  },
  {
   "cell_type": "code",
   "execution_count": 15,
   "id": "37467453",
   "metadata": {},
   "outputs": [
    {
     "data": {
      "text/plain": [
       "[['Ram', 45, 'Kathmandu'],\n",
       " ['Shyam', 23, 'Bhaktapur'],\n",
       " ['Hari', 23, 'Jhapa', 9866765543]]"
      ]
     },
     "execution_count": 15,
     "metadata": {},
     "output_type": "execute_result"
    }
   ],
   "source": [
    "a = [['Ram', 45, 'Kathmandu'], ['Shyam', 23, 'Bhaktapur']]\n",
    "a.insert(1,['Hari',23,'Jhapa',9866765543])\n",
    "a"
   ]
  },
  {
   "cell_type": "code",
   "execution_count": 19,
   "id": "28bba9a4",
   "metadata": {},
   "outputs": [
    {
     "data": {
      "text/plain": [
       "[['Ram', 45, 9808778765, 'Kathmandu'], ['Shyam', 23, 'Bhaktapur']]"
      ]
     },
     "execution_count": 19,
     "metadata": {},
     "output_type": "execute_result"
    }
   ],
   "source": [
    "a = [['Ram', 45, 'Kathmandu'], ['Shyam', 23, 'Bhaktapur']]\n",
    "a[0].insert(2,9808778765)\n",
    "a"
   ]
  },
  {
   "cell_type": "code",
   "execution_count": 23,
   "id": "aa489ed8",
   "metadata": {},
   "outputs": [
    {
     "data": {
      "text/plain": [
       "[['Ram', 45, 'Kathmandu'], ['Shyam', 23, 'Bhaktapur'], [1, 2, 3]]"
      ]
     },
     "execution_count": 23,
     "metadata": {},
     "output_type": "execute_result"
    }
   ],
   "source": [
    "a = [['Ram', 45, 'Kathmandu'], ['Shyam', 23, 'Bhaktapur']]\n",
    "b = [[1,2,3]]\n",
    "a.extend(b)\n",
    "a"
   ]
  },
  {
   "cell_type": "code",
   "execution_count": 24,
   "id": "4c380de8",
   "metadata": {},
   "outputs": [
    {
     "data": {
      "text/plain": [
       "[['Shyam', 23, 'Bhaktapur']]"
      ]
     },
     "execution_count": 24,
     "metadata": {},
     "output_type": "execute_result"
    }
   ],
   "source": [
    "a = [['Ram', 45, 'Kathmandu'], ['Shyam', 23, 'Bhaktapur']]\n",
    "del a[0]\n",
    "a"
   ]
  },
  {
   "cell_type": "code",
   "execution_count": 26,
   "id": "dd81f404",
   "metadata": {},
   "outputs": [
    {
     "name": "stdout",
     "output_type": "stream",
     "text": [
      "[['Shyam', 23, 'Bhaktapur']]\n",
      "['Ram', 45, 'Kathmandu']\n"
     ]
    }
   ],
   "source": [
    "a = [['Ram', 45, 'Kathmandu'], ['Shyam', 23, 'Bhaktapur']]\n",
    "x = a.pop(0)\n",
    "print(a)\n",
    "print(x)"
   ]
  },
  {
   "cell_type": "code",
   "execution_count": 29,
   "id": "c8940526",
   "metadata": {},
   "outputs": [
    {
     "name": "stdout",
     "output_type": "stream",
     "text": [
      "Yes\n",
      "2\n"
     ]
    }
   ],
   "source": [
    "a = [\"Ram\",\"Shyam\",\"Hari\",\"Ram\",\"Shyam\"]\n",
    "if \"Ram\" in a:\n",
    "    print(\"Yes\")\n",
    "    print(a.count(\"Ram\"))"
   ]
  },
  {
   "cell_type": "code",
   "execution_count": 31,
   "id": "59263e82",
   "metadata": {},
   "outputs": [
    {
     "name": "stdout",
     "output_type": "stream",
     "text": [
      "Enter name = Shyam\n",
      "['Shyam', 23, 'Bhaktapur']\n"
     ]
    }
   ],
   "source": [
    "# search in list inside list\n",
    "a = [['Ram', 45, 'Kathmandu'], ['Shyam', 23, 'Bhaktapur']]\n",
    "name = input(\"Enter name = \")\n",
    "for i in a:\n",
    "    if name in i:\n",
    "        print(i)"
   ]
  },
  {
   "cell_type": "code",
   "execution_count": 32,
   "id": "5ac45bd9",
   "metadata": {},
   "outputs": [
    {
     "name": "stdout",
     "output_type": "stream",
     "text": [
      "Enter name = r\n",
      "['Ram', 45, 'Kathmandu']\n"
     ]
    }
   ],
   "source": [
    "# search in list inside list\n",
    "a = [['Ram', 45, 'Kathmandu'], ['Shyam', 23, 'Bhaktapur']]\n",
    "name = input(\"Enter name = \").lower()\n",
    "for i in a:\n",
    "    if name in i[0].lower():\n",
    "        print(i)"
   ]
  },
  {
   "cell_type": "code",
   "execution_count": 38,
   "id": "f198ce19",
   "metadata": {},
   "outputs": [
    {
     "name": "stdout",
     "output_type": "stream",
     "text": [
      "Enter name = Ram\n",
      "['Ram', 45, 'Kathmandu']\n",
      "['Ram', 23, 'Bhaktapur']\n",
      "2 Records found!\n"
     ]
    }
   ],
   "source": [
    "# search in list inside list\n",
    "c = 0\n",
    "a = [['Ram', 45, 'Kathmandu'], ['Ram', 23, 'Bhaktapur']]\n",
    "name = input(\"Enter name = \").lower()\n",
    "for i in a:\n",
    "    if name == i[0].lower():\n",
    "        print(i)\n",
    "        c = c+1\n",
    "if c==0:\n",
    "    print(\"No result found!\")\n",
    "else:\n",
    "    print(c,\"Records found!\")"
   ]
  },
  {
   "cell_type": "code",
   "execution_count": null,
   "id": "1057601b",
   "metadata": {
    "collapsed": true
   },
   "outputs": [],
   "source": [
    "# WAP to create a blling system using list inside list and do CRUD\n",
    "# WAP to create a matrix by taking row and column taking as input\n",
    "# WAP to detect prime and composite using for else or while else"
   ]
  },
  {
   "cell_type": "code",
   "execution_count": 1,
   "id": "6b360e84",
   "metadata": {},
   "outputs": [
    {
     "name": "stdout",
     "output_type": "stream",
     "text": [
      "Enter name = Apple\n"
     ]
    },
    {
     "data": {
      "text/plain": [
       "200"
      ]
     },
     "execution_count": 1,
     "metadata": {},
     "output_type": "execute_result"
    }
   ],
   "source": [
    "a = {\"apple\":200,\"banana\":100,\"pears\":40}\n",
    "\n",
    "name = input(\"Enter name = \").lower()\n",
    "quantity = int(input(\"Enter quantity = \"))\n",
    "price = a[name]\n",
    "total = price*quantity\n",
    "total"
   ]
  },
  {
   "cell_type": "code",
   "execution_count": null,
   "id": "6680cee3",
   "metadata": {},
   "outputs": [],
   "source": [
    "[['Apple',3,100,300],\n",
    "['Banana',2,100,200]]"
   ]
  }
 ],
 "metadata": {
  "kernelspec": {
   "display_name": "Python 3 (ipykernel)",
   "language": "python",
   "name": "python3"
  },
  "language_info": {
   "codemirror_mode": {
    "name": "ipython",
    "version": 3
   },
   "file_extension": ".py",
   "mimetype": "text/x-python",
   "name": "python",
   "nbconvert_exporter": "python",
   "pygments_lexer": "ipython3",
   "version": "3.9.12"
  }
 },
 "nbformat": 4,
 "nbformat_minor": 5
}
