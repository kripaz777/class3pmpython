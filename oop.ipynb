{
 "cells": [
  {
   "cell_type": "code",
   "execution_count": 1,
   "id": "c079dca7",
   "metadata": {},
   "outputs": [],
   "source": [
    "# class Python:         #class\n",
    "#     <methods>\n",
    "    \n",
    "    \n",
    "# obj = Python()        #object"
   ]
  },
  {
   "cell_type": "code",
   "execution_count": 7,
   "id": "4562c143",
   "metadata": {},
   "outputs": [
    {
     "name": "stdout",
     "output_type": "stream",
     "text": [
      "Hello World\n"
     ]
    }
   ],
   "source": [
    "class Hello:\n",
    "    def hello(self):\n",
    "        print(\"Hello World\")\n",
    "        \n",
    "obj = Hello()\n",
    "obj.hello()"
   ]
  },
  {
   "cell_type": "code",
   "execution_count": 6,
   "id": "ad40651f",
   "metadata": {},
   "outputs": [
    {
     "name": "stdout",
     "output_type": "stream",
     "text": [
      "Hello World\n"
     ]
    }
   ],
   "source": [
    "class Hello:\n",
    "    @staticmethod\n",
    "    def hello():\n",
    "        print(\"Hello World\")\n",
    "        \n",
    "obj = Hello()\n",
    "obj.hello()"
   ]
  },
  {
   "cell_type": "code",
   "execution_count": 8,
   "id": "a90bee20",
   "metadata": {},
   "outputs": [
    {
     "name": "stdout",
     "output_type": "stream",
     "text": [
      "500\n",
      "500\n"
     ]
    }
   ],
   "source": [
    "class Cal:\n",
    "    def area(self,l,b):\n",
    "        a = l*b\n",
    "        print(a)\n",
    "    \n",
    "    def volume(self,l,b,h):\n",
    "        v = l*b*h\n",
    "        print(v)\n",
    "    \n",
    "obj = Cal()\n",
    "obj.area(50,10)\n",
    "obj.volume(50,5,2)"
   ]
  },
  {
   "cell_type": "code",
   "execution_count": 10,
   "id": "e9e3a6b8",
   "metadata": {},
   "outputs": [
    {
     "name": "stdout",
     "output_type": "stream",
     "text": [
      "Enter l = 100\n",
      "Enter b = 3\n",
      "Enter h = 4\n",
      "300\n",
      "1200\n",
      "100 3 4\n"
     ]
    }
   ],
   "source": [
    "class Cal:\n",
    "    def __init__(self,l,b,h):\n",
    "        self.l = l\n",
    "        self.b = b\n",
    "        self.h = h\n",
    "        \n",
    "    def area(self):\n",
    "        a = self.l*self.b\n",
    "        print(a)\n",
    "    \n",
    "    def volume(self):\n",
    "        v = self.l*self.b*self.h\n",
    "        print(v)\n",
    "        \n",
    "l = int(input(\"Enter l = \"))\n",
    "b = int(input(\"Enter b = \"))\n",
    "h = int(input(\"Enter h = \"))\n",
    "obj = Cal(l,b,h)\n",
    "obj.area()\n",
    "obj.volume()\n",
    "print(obj.l,obj.b,obj.h)"
   ]
  },
  {
   "cell_type": "code",
   "execution_count": 11,
   "id": "55e0586a",
   "metadata": {},
   "outputs": [
    {
     "name": "stdout",
     "output_type": "stream",
     "text": [
      "Enter l = 100\n",
      "Enter b = 34\n",
      "Enter h = 3\n",
      "3400\n",
      "10200\n"
     ]
    }
   ],
   "source": [
    "class Area:\n",
    "    def __init__(self,l,b):\n",
    "        self.l = l\n",
    "        self.b = b\n",
    "    def area(self):\n",
    "        a = self.l*self.b\n",
    "        print(a)\n",
    "    \n",
    "class Volume:\n",
    "    def __init__(self,l,b,h):\n",
    "        self.l = l\n",
    "        self.b = b\n",
    "        self.h = h\n",
    "    def volume(self):\n",
    "        v = self.l*self.b*self.h\n",
    "        print(v)\n",
    "        \n",
    "l = int(input(\"Enter l = \"))\n",
    "b = int(input(\"Enter b = \"))\n",
    "h = int(input(\"Enter h = \"))\n",
    "obj1 = Area(l,b)\n",
    "obj2 = Volume(l,b,h)\n",
    "\n",
    "obj1.area()\n",
    "obj2.volume()"
   ]
  },
  {
   "cell_type": "code",
   "execution_count": 12,
   "id": "461cd775",
   "metadata": {},
   "outputs": [
    {
     "name": "stdout",
     "output_type": "stream",
     "text": [
      "<_io.TextIOWrapper name='data.txt' mode='r' encoding='cp1252'>\n"
     ]
    }
   ],
   "source": [
    "a = []\n",
    "a.append(4)\n",
    "\n",
    "b = open('data.txt','r')\n",
    "print(b)\n",
    "b.close()"
   ]
  },
  {
   "cell_type": "code",
   "execution_count": null,
   "id": "2f288aef",
   "metadata": {},
   "outputs": [],
   "source": [
    "info = str()\n",
    "n = int(input(\"Enter n = \"))\n",
    "for i in range(n):\n",
    "    name = input(\"Enter product name = \")\n",
    "    price = int(input(\"Enter price = \"))\n",
    "    quantity = int(input(\"Enter quantity = \"))\n",
    "    total = price*quantity\n",
    "    info = info +f\"{name} {price} {quantity} {total}\\n\"\n",
    "    \n",
    "print(info)\n",
    "\n",
    "with open('data.txt','w') as file:\n",
    "    file.write(info)"
   ]
  },
  {
   "cell_type": "code",
   "execution_count": 18,
   "id": "cd607ef0",
   "metadata": {},
   "outputs": [
    {
     "name": "stdout",
     "output_type": "stream",
     "text": [
      "Enter n = 2\n",
      "Enter product name = Apple\n",
      "Enter price = 200\n",
      "Enter quantity = 2\n",
      "Enter product name = Banana\n",
      "Enter price = 100\n",
      "Enter quantity = 2\n",
      "600\n",
      "Apple 200 2 400\n",
      "Banana 100 2 200\n",
      "\n"
     ]
    }
   ],
   "source": [
    "grand_total = 0\n",
    "bill  = str()\n",
    "class File:\n",
    "    def __init__(self,name,price,quantity):\n",
    "        self.info = str()\n",
    "        self.name = name\n",
    "        self.price = price\n",
    "        self.quantity = quantity\n",
    "       \n",
    "    def billing(self):\n",
    "        global  grand_total,bill\n",
    "        total = self.price*self.quantity\n",
    "        info = self.info +f\"{self.name} {self.price} {self.quantity} {total}\\n\"\n",
    "        bill = bill+info\n",
    "        grand_total = total +grand_total\n",
    "        \n",
    "        \n",
    "n = int(input(\"Enter n = \"))\n",
    "for i in range(n):\n",
    "    name = input(\"Enter product name = \")\n",
    "    price = int(input(\"Enter price = \"))\n",
    "    quantity = int(input(\"Enter quantity = \"))\n",
    "\n",
    "    obj = File(name,price,quantity)\n",
    "    obj.billing()\n",
    "\n",
    "print(grand_total)\n",
    "print(bill)"
   ]
  },
  {
   "cell_type": "code",
   "execution_count": null,
   "id": "43743780",
   "metadata": {},
   "outputs": [],
   "source": []
  }
 ],
 "metadata": {
  "kernelspec": {
   "display_name": "Python 3 (ipykernel)",
   "language": "python",
   "name": "python3"
  },
  "language_info": {
   "codemirror_mode": {
    "name": "ipython",
    "version": 3
   },
   "file_extension": ".py",
   "mimetype": "text/x-python",
   "name": "python",
   "nbconvert_exporter": "python",
   "pygments_lexer": "ipython3",
   "version": "3.9.12"
  }
 },
 "nbformat": 4,
 "nbformat_minor": 5
}
