{
 "cells": [
  {
   "cell_type": "code",
   "execution_count": 1,
   "id": "7ff5dea8",
   "metadata": {},
   "outputs": [],
   "source": [
    "# file = open('<file_name>','<mode>')\n",
    "# file.close()\n",
    "\n",
    "# with open('<file_name>','<mode>') as file:\n",
    "#     <operations>"
   ]
  },
  {
   "cell_type": "code",
   "execution_count": 2,
   "id": "844c1cc2",
   "metadata": {},
   "outputs": [],
   "source": [
    "# mode\n",
    "# r -> read\n",
    "# a -> append\n",
    "# x -> create\n",
    "# w -> write"
   ]
  },
  {
   "cell_type": "code",
   "execution_count": 5,
   "id": "531ed71b",
   "metadata": {},
   "outputs": [
    {
     "name": "stdout",
     "output_type": "stream",
     "text": [
      "The file is already there!\n"
     ]
    }
   ],
   "source": [
    "try:\n",
    "    file = open('new_file.txt','x')\n",
    "    file.close()\n",
    "except:\n",
    "    print(\"The file is already there!\")"
   ]
  },
  {
   "cell_type": "code",
   "execution_count": 6,
   "id": "82978f1c",
   "metadata": {},
   "outputs": [],
   "source": [
    "try:\n",
    "    file = open('new_file.docx','x')\n",
    "    file.close()\n",
    "except:\n",
    "    print(\"The file is already there!\")"
   ]
  },
  {
   "cell_type": "code",
   "execution_count": 8,
   "id": "56cd5daa",
   "metadata": {},
   "outputs": [
    {
     "name": "stdout",
     "output_type": "stream",
     "text": [
      "<class 'str'>\n",
      "1.Hello World\n",
      "2.Hello World\n",
      "3.Hello World\n",
      "4.Hello World\n",
      "5.Hello World\n"
     ]
    }
   ],
   "source": [
    "try:\n",
    "    file = open('new_file.txt','r')\n",
    "    x = file.read()\n",
    "    print(type(x))\n",
    "    print(x)\n",
    "    file.close()\n",
    "except:\n",
    "    print(\"The file is already there!\")"
   ]
  },
  {
   "cell_type": "code",
   "execution_count": 10,
   "id": "9aefc94c",
   "metadata": {},
   "outputs": [
    {
     "data": {
      "text/plain": [
       "['1.Hello World',\n",
       " '2.Hello World',\n",
       " '3.Hello World',\n",
       " '4.Hello World',\n",
       " '5.Hello World']"
      ]
     },
     "execution_count": 10,
     "metadata": {},
     "output_type": "execute_result"
    }
   ],
   "source": [
    "x.split('\\n')"
   ]
  },
  {
   "cell_type": "code",
   "execution_count": 15,
   "id": "d006130f",
   "metadata": {},
   "outputs": [
    {
     "data": {
      "text/plain": [
       "'5.Hello World'"
      ]
     },
     "execution_count": 15,
     "metadata": {},
     "output_type": "execute_result"
    }
   ],
   "source": [
    "x.split('\\n')[4]"
   ]
  },
  {
   "cell_type": "code",
   "execution_count": 17,
   "id": "afe711cf",
   "metadata": {},
   "outputs": [],
   "source": [
    "with open('data.txt','w') as file:\n",
    "    file.write('Hello World I am Python!')"
   ]
  },
  {
   "cell_type": "code",
   "execution_count": 19,
   "id": "f48e22ae",
   "metadata": {},
   "outputs": [],
   "source": [
    "with open('data.txt','a') as file:\n",
    "    file.write('Hello World I am Python!')"
   ]
  },
  {
   "cell_type": "code",
   "execution_count": 20,
   "id": "2a708c15",
   "metadata": {},
   "outputs": [
    {
     "name": "stdout",
     "output_type": "stream",
     "text": [
      "Enter n = 2\n",
      "Enter product name = Apple\n",
      "Enter price = 300\n",
      "Enter quantity = 2\n",
      "Enter product name = Banana\n",
      "Enter price = 200\n",
      "Enter quantity = 1\n",
      "Apple 300 2 600\n",
      "Banana 200 1 200\n",
      "\n"
     ]
    }
   ],
   "source": [
    "info = str()\n",
    "n = int(input(\"Enter n = \"))\n",
    "for i in range(n):\n",
    "    name = input(\"Enter product name = \")\n",
    "    price = int(input(\"Enter price = \"))\n",
    "    quantity = int(input(\"Enter quantity = \"))\n",
    "    total = price*quantity\n",
    "    info = info +f\"{name} {price} {quantity} {total}\\n\"\n",
    "    \n",
    "print(info)\n",
    "\n",
    "with open('data.txt','w') as file:\n",
    "    file.write(info)"
   ]
  },
  {
   "cell_type": "code",
   "execution_count": 21,
   "id": "250ba592",
   "metadata": {},
   "outputs": [
    {
     "name": "stdout",
     "output_type": "stream",
     "text": [
      "Enter n = 2\n",
      "Enter product name = Coke\n",
      "Enter price = 100\n",
      "Enter quantity = 2\n",
      "Enter product name = Momo\n",
      "Enter price = 150\n",
      "Enter quantity = 3\n",
      "Coke 100 2 200\n",
      "Momo 150 3 450\n",
      "\n"
     ]
    }
   ],
   "source": [
    "info = str()\n",
    "n = int(input(\"Enter n = \"))\n",
    "for i in range(n):\n",
    "    name = input(\"Enter product name = \")\n",
    "    price = int(input(\"Enter price = \"))\n",
    "    quantity = int(input(\"Enter quantity = \"))\n",
    "    total = price*quantity\n",
    "    info = info +f\"{name} {price} {quantity} {total}\\n\"\n",
    "    \n",
    "print(info)\n",
    "\n",
    "with open('data.txt','a') as file:\n",
    "    file.write(info)"
   ]
  },
  {
   "cell_type": "code",
   "execution_count": 23,
   "id": "4c82ec3b",
   "metadata": {},
   "outputs": [
    {
     "name": "stdout",
     "output_type": "stream",
     "text": [
      "Apple 300 2 600\n",
      "Banana 200 1 200\n",
      "Coke 100 2 200\n",
      "Momo 150 3 450\n",
      "\n"
     ]
    }
   ],
   "source": [
    "with open('data.txt','r') as file:\n",
    "    x = file.read()\n",
    "    print(x)"
   ]
  },
  {
   "cell_type": "code",
   "execution_count": null,
   "id": "399920fc",
   "metadata": {},
   "outputs": [],
   "source": []
  },
  {
   "cell_type": "code",
   "execution_count": 26,
   "id": "d817c0f6",
   "metadata": {},
   "outputs": [
    {
     "data": {
      "text/plain": [
       "['Apple 300 2 600', 'Banana 200 1 200', 'Coke 100 2 200', 'Momo 150 3 450']"
      ]
     },
     "execution_count": 26,
     "metadata": {},
     "output_type": "execute_result"
    }
   ],
   "source": [
    "data = x.split('\\n')[0:-1]\n",
    "data"
   ]
  },
  {
   "cell_type": "code",
   "execution_count": 30,
   "id": "d64e855e",
   "metadata": {},
   "outputs": [
    {
     "data": {
      "text/plain": [
       "[['Apple', '300', '2', '600'],\n",
       " ['Banana', '200', '1', '200'],\n",
       " ['Coke', '100', '2', '200'],\n",
       " ['Momo', '150', '3', '450']]"
      ]
     },
     "execution_count": 30,
     "metadata": {},
     "output_type": "execute_result"
    }
   ],
   "source": [
    "new_data = []\n",
    "for i in data:\n",
    "    split_data = i.split()\n",
    "    new_data.append(split_data)\n",
    "    \n",
    "new_data"
   ]
  },
  {
   "cell_type": "code",
   "execution_count": 37,
   "id": "24092aa6",
   "metadata": {},
   "outputs": [
    {
     "data": {
      "text/plain": [
       "['Apple', '300', '2', '600']"
      ]
     },
     "execution_count": 37,
     "metadata": {},
     "output_type": "execute_result"
    }
   ],
   "source": [
    "x = 'Apple-300-2-600'\n",
    "x.split('-')"
   ]
  },
  {
   "cell_type": "code",
   "execution_count": 35,
   "id": "e3b2cdf4",
   "metadata": {},
   "outputs": [
    {
     "data": {
      "text/plain": [
       "1450"
      ]
     },
     "execution_count": 35,
     "metadata": {},
     "output_type": "execute_result"
    }
   ],
   "source": [
    "all_total = 0\n",
    "for cal in new_data:\n",
    "    all_total = all_total + int(cal[3])\n",
    "    \n",
    "all_total"
   ]
  },
  {
   "cell_type": "code",
   "execution_count": null,
   "id": "f8875b4f",
   "metadata": {},
   "outputs": [],
   "source": []
  }
 ],
 "metadata": {
  "kernelspec": {
   "display_name": "Python 3 (ipykernel)",
   "language": "python",
   "name": "python3"
  },
  "language_info": {
   "codemirror_mode": {
    "name": "ipython",
    "version": 3
   },
   "file_extension": ".py",
   "mimetype": "text/x-python",
   "name": "python",
   "nbconvert_exporter": "python",
   "pygments_lexer": "ipython3",
   "version": "3.9.12"
  }
 },
 "nbformat": 4,
 "nbformat_minor": 5
}
