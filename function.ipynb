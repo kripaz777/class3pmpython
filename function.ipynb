{
 "cells": [
  {
   "cell_type": "code",
   "execution_count": 1,
   "id": "460d1c3a",
   "metadata": {},
   "outputs": [],
   "source": [
    "# pre defined Function\n",
    "# print() int() float() str() list() tuple() dict()\n"
   ]
  },
  {
   "cell_type": "code",
   "execution_count": 2,
   "id": "4b6a29bb",
   "metadata": {},
   "outputs": [],
   "source": [
    "#user defined function\n",
    "# def <function_name>():\n",
    "#     <operations>\n",
    "    \n",
    "# <function_name>()"
   ]
  },
  {
   "cell_type": "code",
   "execution_count": 5,
   "id": "86c1547b",
   "metadata": {},
   "outputs": [
    {
     "name": "stdout",
     "output_type": "stream",
     "text": [
      "Hello World\n"
     ]
    }
   ],
   "source": [
    "def hello():\n",
    "    print(\"Hello World\")\n",
    "\n",
    "hello()"
   ]
  },
  {
   "cell_type": "code",
   "execution_count": 6,
   "id": "5fa19970",
   "metadata": {},
   "outputs": [
    {
     "name": "stdout",
     "output_type": "stream",
     "text": [
      "Enter p = 10000\n",
      "Enter t = 4.5\n",
      "Enter r = 10\n",
      "4500.0\n"
     ]
    }
   ],
   "source": [
    "def cal():\n",
    "    p = int(input(\"Enter p = \"))            #local variable\n",
    "    t = float(input(\"Enter t = \"))          #local variable\n",
    "    r = float(input(\"Enter r = \"))          #local variable\n",
    "    i = p*t*r/100                           #local variable\n",
    "    print(i)\n",
    "    \n",
    "cal()"
   ]
  },
  {
   "cell_type": "code",
   "execution_count": 7,
   "id": "ffe98540",
   "metadata": {},
   "outputs": [
    {
     "name": "stdout",
     "output_type": "stream",
     "text": [
      "Enter p = 10000\n",
      "Enter t = 2\n",
      "Enter r = 3.4\n",
      "680.0\n"
     ]
    }
   ],
   "source": [
    "# function without argument and no return type \n",
    "\n",
    "p = int(input(\"Enter p = \"))            #global variable\n",
    "t = float(input(\"Enter t = \"))          #global variable\n",
    "r = float(input(\"Enter r = \"))          #global variable\n",
    "\n",
    "def cal():\n",
    "    i = p*t*r/100                        #local variable\n",
    "    print(i)\n",
    "\n",
    "\n",
    "cal()"
   ]
  },
  {
   "cell_type": "code",
   "execution_count": 8,
   "id": "18fe08c0",
   "metadata": {},
   "outputs": [],
   "source": [
    "# argument\n",
    "# return value"
   ]
  },
  {
   "cell_type": "code",
   "execution_count": null,
   "id": "4dda768a",
   "metadata": {},
   "outputs": [],
   "source": [
    "# function without argument and no return type \n",
    "# function with argument and no return type\n",
    "# function without argument and return type\n",
    "# function with argument and return type"
   ]
  },
  {
   "cell_type": "code",
   "execution_count": 9,
   "id": "911deb61",
   "metadata": {},
   "outputs": [
    {
     "name": "stdout",
     "output_type": "stream",
     "text": [
      "Hello World\n"
     ]
    }
   ],
   "source": [
    "# function with argument and no return type\n",
    "\n",
    "def hello(x):       #parameter\n",
    "    print(x)\n",
    "\n",
    "hello(\"Hello World\") #argument"
   ]
  },
  {
   "cell_type": "code",
   "execution_count": 10,
   "id": "f2a60ece",
   "metadata": {},
   "outputs": [
    {
     "name": "stdout",
     "output_type": "stream",
     "text": [
      "Enter p = 100\n",
      "Enter t = 3\n",
      "Enter r = 4\n",
      "12.0\n"
     ]
    }
   ],
   "source": [
    "# function without argument and no return type \n",
    "\n",
    "def cal(p,t,r):\n",
    "    i = p*t*r/100                        #local variable\n",
    "    print(i)\n",
    "\n",
    "p = int(input(\"Enter p = \"))            #global variable\n",
    "t = float(input(\"Enter t = \"))          #global variable\n",
    "r = float(input(\"Enter r = \"))          #global variable\n",
    "cal(p,t,r)                              #p,t,r -> argument"
   ]
  },
  {
   "cell_type": "code",
   "execution_count": null,
   "id": "582aa631",
   "metadata": {},
   "outputs": [],
   "source": [
    "# function without argument and no return type \n",
    "p = int(input(\"Enter p = \"))            #global variable\n",
    "t = float(input(\"Enter t = \"))          #global variable\n",
    "r = float(input(\"Enter r = \"))          #global variable\n",
    "\n",
    "def cal(p,t,r):\n",
    "    i = p*t*r/100                        #local variable\n",
    "    print(i)\n",
    "\n",
    "\n",
    "cal(p,t,r)                              #p,t,r -> argument"
   ]
  },
  {
   "cell_type": "code",
   "execution_count": 12,
   "id": "160cc6b7",
   "metadata": {},
   "outputs": [
    {
     "name": "stdout",
     "output_type": "stream",
     "text": [
      "Enter p = 1000\n",
      "Enter t = 3\n",
      "Enter r = 4\n",
      "120.0\n"
     ]
    }
   ],
   "source": [
    "# function without argument and no return type \n",
    "p = int(input(\"Enter p = \"))            #global variable\n",
    "t = float(input(\"Enter t = \"))          #global variable\n",
    "r = float(input(\"Enter r = \"))          #global variable\n",
    "\n",
    "def cal(l):\n",
    "    x,y,z = l\n",
    "    i = x*y*z/100                        #local variable\n",
    "    print(i)\n",
    "\n",
    "l = [p,t,r]\n",
    "cal(l)                              #l -> argument"
   ]
  },
  {
   "cell_type": "code",
   "execution_count": 14,
   "id": "3754f3d6",
   "metadata": {},
   "outputs": [
    {
     "name": "stdout",
     "output_type": "stream",
     "text": [
      "Hello World\n"
     ]
    }
   ],
   "source": [
    "# return type\n",
    "def hello():\n",
    "    return \"Hello World\"\n",
    "\n",
    "print(hello())"
   ]
  },
  {
   "cell_type": "code",
   "execution_count": 16,
   "id": "9d0cc244",
   "metadata": {},
   "outputs": [
    {
     "name": "stdout",
     "output_type": "stream",
     "text": [
      "Hello World I am Python\n"
     ]
    }
   ],
   "source": [
    "# return type\n",
    "def hello():\n",
    "    return \"Hello World\"\n",
    "\n",
    "x = hello()\n",
    "print(x+\" I am Python\")"
   ]
  },
  {
   "cell_type": "code",
   "execution_count": null,
   "id": "ae7ccbee",
   "metadata": {},
   "outputs": [],
   "source": [
    "# function without argument and return type\n",
    "def area():\n",
    "    l = int(input(\"Enter l = \"))\n",
    "    b = int(input(\"Enter b = \"))\n",
    "    a = l*b\n",
    "    return a\n",
    "\n",
    "ar = area()\n",
    "h = int(input(\"Enter h = \"))\n",
    "v = ar*h\n",
    "print(\"The volume = \",v)"
   ]
  },
  {
   "cell_type": "code",
   "execution_count": 17,
   "id": "dd33930d",
   "metadata": {},
   "outputs": [
    {
     "name": "stdout",
     "output_type": "stream",
     "text": [
      "Enter l = 1000\n",
      "Enter b = 3\n",
      "Enter h = 4\n",
      "(3000, 12000)\n"
     ]
    }
   ],
   "source": [
    "# function without argument and return type\n",
    "def area():\n",
    "    l = int(input(\"Enter l = \"))\n",
    "    b = int(input(\"Enter b = \"))\n",
    "    h = int(input(\"Enter h = \"))\n",
    "    a = l*b\n",
    "    v = a*h\n",
    "    return a,v\n",
    "\n",
    "ar = area()\n",
    "print(ar)\n",
    "x,y = ar\n",
    "print(\"The area = \",x)\n",
    "print(\"The volume = \",y)"
   ]
  },
  {
   "cell_type": "code",
   "execution_count": 18,
   "id": "35ba811c",
   "metadata": {},
   "outputs": [
    {
     "name": "stdout",
     "output_type": "stream",
     "text": [
      "Enter l = 1000\n",
      "Enter b = 344\n",
      "Enter h = 54\n",
      "(344000, 18576000)\n",
      "The area =  344000\n",
      "The volume =  18576000\n"
     ]
    }
   ],
   "source": [
    "# function with argument and return type\n",
    "def area(x,y,z):\n",
    "\n",
    "    a = x*y\n",
    "    v = a*z\n",
    "    return a,v\n",
    "\n",
    "l = int(input(\"Enter l = \"))\n",
    "b = int(input(\"Enter b = \"))\n",
    "h = int(input(\"Enter h = \"))\n",
    "ar = area(l,b,h)\n",
    "\n",
    "print(ar)\n",
    "i,j = ar\n",
    "print(\"The area = \",i)\n",
    "print(\"The volume = \",j)"
   ]
  },
  {
   "cell_type": "code",
   "execution_count": 19,
   "id": "af1f174c",
   "metadata": {},
   "outputs": [
    {
     "name": "stdout",
     "output_type": "stream",
     "text": [
      "C\n",
      "C++\n",
      "Java\n",
      ".NET\n",
      "Python\n"
     ]
    }
   ],
   "source": [
    "def language(lan = \"Python\"):\n",
    "    print(lan)\n",
    "    \n",
    "language(\"C\")\n",
    "language(\"C++\")\n",
    "language(\"Java\")\n",
    "language(\".NET\")\n",
    "language()"
   ]
  },
  {
   "cell_type": "code",
   "execution_count": 1,
   "id": "8452547b",
   "metadata": {},
   "outputs": [
    {
     "name": "stdout",
     "output_type": "stream",
     "text": [
      "Hello World\n",
      "Hello World\n"
     ]
    }
   ],
   "source": [
    "def hello():\n",
    "    print(\"Hello World\")\n",
    "    hello()\n",
    "    \n",
    "hello()"
   ]
  },
  {
   "cell_type": "code",
   "execution_count": 2,
   "id": "f7e9ad7a",
   "metadata": {},
   "outputs": [
    {
     "name": "stdout",
     "output_type": "stream",
     "text": [
      "Hello World\n",
      "Enter for more print = \n",
      "Hello World\n",
      "Enter for more print = \n",
      "Hello World\n",
      "Enter for more print = \n",
      "Hello World\n",
      "Enter for more print = fhhg\n"
     ]
    }
   ],
   "source": [
    "def hello():\n",
    "    print(\"Hello World\")\n",
    "    x = input(\"Enter for more print = \")\n",
    "    if x == '':\n",
    "        hello()\n",
    "    \n",
    "hello()"
   ]
  },
  {
   "cell_type": "code",
   "execution_count": 3,
   "id": "28758d25",
   "metadata": {},
   "outputs": [
    {
     "name": "stdout",
     "output_type": "stream",
     "text": [
      "3.141592653589793\n"
     ]
    }
   ],
   "source": [
    "# math function\n",
    "import math as m\n",
    "print(m.pi)"
   ]
  },
  {
   "cell_type": "code",
   "execution_count": 4,
   "id": "4a009a3f",
   "metadata": {},
   "outputs": [
    {
     "name": "stdout",
     "output_type": "stream",
     "text": [
      "Enter r = 100\n",
      "The area is =  31415.926535897932\n"
     ]
    }
   ],
   "source": [
    "r = int(input(\"Enter r = \"))\n",
    "a = m.pi*m.pow(r,2)\n",
    "print(\"The area is = \",a)"
   ]
  },
  {
   "cell_type": "code",
   "execution_count": null,
   "id": "9731ecd2",
   "metadata": {},
   "outputs": [],
   "source": [
    "# f = ma*sin(t)\n",
    "import math as m\n",
    "mass = float(input(\"Enter mass = \"))\n",
    "acc = float(input(\"Enter a = \"))\n",
    "\n",
    "f = mass*acc*m.cos(m.pi/4)\n",
    "print(\"The value of f = \",f)"
   ]
  }
 ],
 "metadata": {
  "kernelspec": {
   "display_name": "Python 3 (ipykernel)",
   "language": "python",
   "name": "python3"
  },
  "language_info": {
   "codemirror_mode": {
    "name": "ipython",
    "version": 3
   },
   "file_extension": ".py",
   "mimetype": "text/x-python",
   "name": "python",
   "nbconvert_exporter": "python",
   "pygments_lexer": "ipython3",
   "version": "3.9.12"
  }
 },
 "nbformat": 4,
 "nbformat_minor": 5
}
