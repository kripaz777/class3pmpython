{
 "cells": [
  {
   "cell_type": "code",
   "execution_count": 1,
   "id": "ffdd1354",
   "metadata": {},
   "outputs": [
    {
     "name": "stdout",
     "output_type": "stream",
     "text": [
      "Requirement already satisfied: mysql-connector in c:\\users\\aayush\\anaconda3\\lib\\site-packages (2.2.9)\n"
     ]
    }
   ],
   "source": [
    "!pip install mysql-connector"
   ]
  },
  {
   "cell_type": "code",
   "execution_count": 6,
   "id": "31132507",
   "metadata": {},
   "outputs": [],
   "source": [
    "import mysql.connector  \t\t#importing database\n",
    "\n",
    "database = mysql.connector.connect(\n",
    "  host=\"localhost\",\n",
    "  user=\"root\",\n",
    "  password=\"\",\n",
    "  database = \"pythonclass3pm\",\n",
    ")\n",
    "db = database.cursor() "
   ]
  },
  {
   "cell_type": "code",
   "execution_count": 4,
   "id": "bfdba6a5",
   "metadata": {},
   "outputs": [],
   "source": [
    "# db.execute(\"CREATE DATABASE pythons11\")"
   ]
  },
  {
   "cell_type": "code",
   "execution_count": 8,
   "id": "6274d915",
   "metadata": {},
   "outputs": [
    {
     "name": "stdout",
     "output_type": "stream",
     "text": [
      "[(1, 'Rakesh KC', 78, 89, 56, 98, 89, 456, 87.3, 'A+'), (2, 'Sabin', 89, 45, 90, 76, 67, 89, 84.3, 'A'), (3, 'Sabina', 89, 45, 90, 76, 67, 82, 83.3, 'A')]\n"
     ]
    }
   ],
   "source": [
    "db.execute(\"SELECT * FROM student\")\n",
    "result =db.fetchall()\n",
    "print(result)"
   ]
  },
  {
   "cell_type": "code",
   "execution_count": 9,
   "id": "54c3b546",
   "metadata": {},
   "outputs": [
    {
     "name": "stdout",
     "output_type": "stream",
     "text": [
      "[(1, 'Rakesh KC', 456, 'A+'), (2, 'Sabin', 89, 'A'), (3, 'Sabina', 82, 'A')]\n"
     ]
    }
   ],
   "source": [
    "db.execute(\"SELECT sn,name,total,grade FROM student\")\n",
    "result =db.fetchall()\n",
    "print(result)"
   ]
  },
  {
   "cell_type": "code",
   "execution_count": 10,
   "id": "cacdd99b",
   "metadata": {},
   "outputs": [],
   "source": [
    "sql = '''INSERT INTO student( name, physics, chemistry, math, english, nepali, total, per, grade) \n",
    "VALUES ('Sabin',89,79,90,91,78,420,84.7,'A')'''\n",
    "db.execute(sql)\n",
    "database.commit()"
   ]
  },
  {
   "cell_type": "code",
   "execution_count": 13,
   "id": "afdf8f6f",
   "metadata": {},
   "outputs": [
    {
     "name": "stdout",
     "output_type": "stream",
     "text": [
      "Enter n = 2\n",
      "Enter name = Ram\n",
      "Enter physics = 78\n",
      "Enter chemistry = 90\n",
      "Enter math = 87\n",
      "Enter english = 78\n",
      "Enter nepali =  87\n",
      "Enter name = Shyam\n",
      "Enter physics = 90\n",
      "Enter chemistry = 89\n",
      "Enter math = 98\n",
      "Enter english = 78\n",
      "Enter nepali =  87\n"
     ]
    }
   ],
   "source": [
    "n = int(input(\"Enter n = \"))\n",
    "for i in range(n):\n",
    "    name = input(\"Enter name = \")\n",
    "    physics = int(input(\"Enter physics = \"))\n",
    "    chemistry = int(input(\"Enter chemistry = \"))\n",
    "    math = int(input(\"Enter math = \"))\n",
    "    english = int(input(\"Enter english = \"))\n",
    "    nepali = int(input(\"Enter nepali =  \"))\n",
    "    total = physics + chemistry + math + english + nepali\n",
    "    per = total/5\n",
    "    if per > 80:\n",
    "        grade = \"A\"\n",
    "    elif per > 60:\n",
    "        grade = \"B\"\n",
    "    elif per > 45:\n",
    "        grade = \"C\"\n",
    "    else:\n",
    "        grade = \"F\"\n",
    "        \n",
    "    sql = f'''INSERT INTO student( name, physics, chemistry, math, english, nepali, total, per, grade) \n",
    "            VALUES ('{name}',{physics},{chemistry},{math},{english},{nepali},{total},{per},'{grade}')'''\n",
    "    db.execute(sql)\n",
    "        \n",
    "database.commit()"
   ]
  },
  {
   "cell_type": "code",
   "execution_count": 14,
   "id": "59ca7abd",
   "metadata": {},
   "outputs": [
    {
     "name": "stdout",
     "output_type": "stream",
     "text": [
      "[(2, 'Sabin', 89, 45, 90, 76, 67, 89, 84.3, 'A'), (3, 'Sabina', 89, 45, 90, 76, 67, 82, 83.3, 'A'), (6, 'Sabin', 89, 79, 90, 91, 78, 420, 84.7, 'A')]\n"
     ]
    }
   ],
   "source": [
    "db.execute(\"SELECT * FROM student WHERE grade = 'A' \")\n",
    "result =db.fetchall()\n",
    "print(result)"
   ]
  },
  {
   "cell_type": "code",
   "execution_count": 17,
   "id": "381f6b3c",
   "metadata": {},
   "outputs": [
    {
     "name": "stdout",
     "output_type": "stream",
     "text": [
      "[(2, 'Sabin', 89, 45, 90, 76, 67, 89, 84.3, 'A'), (3, 'Sabina', 89, 45, 90, 76, 67, 82, 83.3, 'A'), (6, 'Sabin', 89, 79, 90, 91, 78, 420, 84.7, 'A')]\n"
     ]
    }
   ],
   "source": [
    "db.execute(\"SELECT * FROM student WHERE grade = 'A' and math > 85\")\n",
    "result =db.fetchall()\n",
    "print(result)"
   ]
  },
  {
   "cell_type": "code",
   "execution_count": 19,
   "id": "e1eab656",
   "metadata": {},
   "outputs": [],
   "source": [
    "sql = \"DELETE FROM student WHERE grade = 'A+'\"\n",
    "db.execute(sql)\n",
    "database.commit()"
   ]
  },
  {
   "cell_type": "code",
   "execution_count": 22,
   "id": "a06a7eb7",
   "metadata": {},
   "outputs": [],
   "source": [
    "sql = \"UPDATE student SET name = 'Ram Prasad' WHERE name = 'Ram'\"\n",
    "\n",
    "db.execute(sql)\n",
    "\n",
    "database.commit()"
   ]
  },
  {
   "cell_type": "code",
   "execution_count": null,
   "id": "b3ba721c",
   "metadata": {},
   "outputs": [],
   "source": []
  }
 ],
 "metadata": {
  "kernelspec": {
   "display_name": "Python 3 (ipykernel)",
   "language": "python",
   "name": "python3"
  },
  "language_info": {
   "codemirror_mode": {
    "name": "ipython",
    "version": 3
   },
   "file_extension": ".py",
   "mimetype": "text/x-python",
   "name": "python",
   "nbconvert_exporter": "python",
   "pygments_lexer": "ipython3",
   "version": "3.9.12"
  }
 },
 "nbformat": 4,
 "nbformat_minor": 5
}
