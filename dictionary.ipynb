{
 "cells": [
  {
   "cell_type": "code",
   "execution_count": 1,
   "id": "8fdaac02",
   "metadata": {},
   "outputs": [],
   "source": [
    "# # Dictionary\n",
    "# -Indexing\n",
    "# -Ordered\n",
    "# -Multiple\n",
    "# -Mutable"
   ]
  },
  {
   "cell_type": "code",
   "execution_count": 5,
   "id": "725bd9cc",
   "metadata": {},
   "outputs": [
    {
     "name": "stdout",
     "output_type": "stream",
     "text": [
      "<class 'dict'>\n",
      "3\n"
     ]
    }
   ],
   "source": [
    "#d = {<key>:<value>,<key>:<value>,..}b\n",
    "d = {'a':'Apple','b':'ball','c':'cat'}\n",
    "print(type(d))\n",
    "print(len(d))"
   ]
  },
  {
   "cell_type": "code",
   "execution_count": 8,
   "id": "13774c28",
   "metadata": {},
   "outputs": [
    {
     "data": {
      "text/plain": [
       "'cat'"
      ]
     },
     "execution_count": 8,
     "metadata": {},
     "output_type": "execute_result"
    }
   ],
   "source": [
    "d = {'a':'Apple','b':'ball','c':'cat'}\n",
    "d['c']"
   ]
  },
  {
   "cell_type": "code",
   "execution_count": 9,
   "id": "a9f11855",
   "metadata": {},
   "outputs": [
    {
     "name": "stdout",
     "output_type": "stream",
     "text": [
      "{'a': 'Apple', 'b': 'ball', 'c': 'cat'}\n"
     ]
    }
   ],
   "source": [
    "d = {'a':'Apple','b':'ball','c':'cat'}\n",
    "print(d)"
   ]
  },
  {
   "cell_type": "code",
   "execution_count": 10,
   "id": "dab283ff",
   "metadata": {},
   "outputs": [],
   "source": [
    "# No + *"
   ]
  },
  {
   "cell_type": "code",
   "execution_count": 11,
   "id": "ecb878c5",
   "metadata": {},
   "outputs": [
    {
     "data": {
      "text/plain": [
       "{'a': 'ant'}"
      ]
     },
     "execution_count": 11,
     "metadata": {},
     "output_type": "execute_result"
    }
   ],
   "source": [
    "d = {'a':'Apple','a':'ant'}\n",
    "d"
   ]
  },
  {
   "cell_type": "code",
   "execution_count": 12,
   "id": "539b169b",
   "metadata": {},
   "outputs": [
    {
     "data": {
      "text/plain": [
       "{'a': 'Apple', 'A': 'ant'}"
      ]
     },
     "execution_count": 12,
     "metadata": {},
     "output_type": "execute_result"
    }
   ],
   "source": [
    "d = {'a':'Apple','A':'ant'}\n",
    "d"
   ]
  },
  {
   "cell_type": "code",
   "execution_count": 13,
   "id": "44443f27",
   "metadata": {},
   "outputs": [
    {
     "name": "stdout",
     "output_type": "stream",
     "text": [
      "a\n",
      "A\n"
     ]
    }
   ],
   "source": [
    "d = {'a':'Apple','A':'ant'}\n",
    "for i in d:\n",
    "    print(i)"
   ]
  },
  {
   "cell_type": "code",
   "execution_count": 14,
   "id": "47b30d62",
   "metadata": {},
   "outputs": [
    {
     "name": "stdout",
     "output_type": "stream",
     "text": [
      "Apple\n",
      "ant\n"
     ]
    }
   ],
   "source": [
    "d = {'a':'Apple','A':'ant'}\n",
    "for i in d.values():\n",
    "    print(i)"
   ]
  },
  {
   "cell_type": "code",
   "execution_count": 15,
   "id": "b3e5cfe1",
   "metadata": {},
   "outputs": [
    {
     "name": "stdout",
     "output_type": "stream",
     "text": [
      "('a', 'Apple')\n",
      "('A', 'ant')\n"
     ]
    }
   ],
   "source": [
    "d = {'a':'Apple','A':'ant'}\n",
    "for i in d.items():\n",
    "    print(i)"
   ]
  },
  {
   "cell_type": "code",
   "execution_count": 16,
   "id": "0dd8db65",
   "metadata": {},
   "outputs": [
    {
     "data": {
      "text/plain": [
       "{'a': 'Apple', 'b': 'Ball'}"
      ]
     },
     "execution_count": 16,
     "metadata": {},
     "output_type": "execute_result"
    }
   ],
   "source": [
    "d = {}\n",
    "d['a'] = 'Apple'\n",
    "d['b'] = 'Ball'\n",
    "d"
   ]
  },
  {
   "cell_type": "code",
   "execution_count": 18,
   "id": "4752b217",
   "metadata": {},
   "outputs": [
    {
     "name": "stdout",
     "output_type": "stream",
     "text": [
      "Enter n = 2\n",
      "Enter name = Ram\n",
      "Enter phone = 9808778765\n",
      "Enter name = Shyam\n",
      "Enter phone = 9808778765\n",
      "{'Ram': '9808778765', 'Shyam': '9808778765'}\n"
     ]
    }
   ],
   "source": [
    "data = {}\n",
    "n = int(input(\"Enter n = \"))\n",
    "for i in range(n):\n",
    "    name = input(\"Enter name = \")\n",
    "    phone = input(\"Enter phone = \")\n",
    "    data[name] = phone\n",
    "print(data)"
   ]
  },
  {
   "cell_type": "code",
   "execution_count": 21,
   "id": "10677f66",
   "metadata": {},
   "outputs": [
    {
     "data": {
      "text/plain": [
       "{'Shyam': '9808778765'}"
      ]
     },
     "execution_count": 21,
     "metadata": {},
     "output_type": "execute_result"
    }
   ],
   "source": [
    "#del pop()\n",
    "d = {'Ram': '9808778765', 'Shyam': '9808778765'}\n",
    "del d['Ram']\n",
    "d"
   ]
  },
  {
   "cell_type": "code",
   "execution_count": 22,
   "id": "a66de82e",
   "metadata": {},
   "outputs": [
    {
     "name": "stdout",
     "output_type": "stream",
     "text": [
      "{'Shyam': '9808778765'}\n"
     ]
    }
   ],
   "source": [
    "d = {'Ram': '9808778765', 'Shyam': '9808778765'}\n",
    "d.pop('Ram')\n",
    "print(d)"
   ]
  },
  {
   "cell_type": "code",
   "execution_count": 23,
   "id": "8cdb1c3b",
   "metadata": {},
   "outputs": [],
   "source": [
    "# list inside dictionary\n",
    "d = {'Ram':[9808778765,9808778723],\n",
    "    'Shyam':[9808778765,9808665343]}\n"
   ]
  },
  {
   "cell_type": "code",
   "execution_count": 25,
   "id": "ee1014f1",
   "metadata": {},
   "outputs": [
    {
     "data": {
      "text/plain": [
       "[9808778765, 9808778723]"
      ]
     },
     "execution_count": 25,
     "metadata": {},
     "output_type": "execute_result"
    }
   ],
   "source": [
    "d['Ram']"
   ]
  },
  {
   "cell_type": "code",
   "execution_count": 26,
   "id": "50051048",
   "metadata": {},
   "outputs": [
    {
     "data": {
      "text/plain": [
       "9808778765"
      ]
     },
     "execution_count": 26,
     "metadata": {},
     "output_type": "execute_result"
    }
   ],
   "source": [
    "d['Ram'][0]"
   ]
  },
  {
   "cell_type": "code",
   "execution_count": 27,
   "id": "6603453a",
   "metadata": {},
   "outputs": [
    {
     "data": {
      "text/plain": [
       "{'Ram': [9800000000, 9808778723], 'Shyam': [9808778765, 9808665343]}"
      ]
     },
     "execution_count": 27,
     "metadata": {},
     "output_type": "execute_result"
    }
   ],
   "source": [
    "d['Ram'][0] = 9800000000\n",
    "d"
   ]
  },
  {
   "cell_type": "code",
   "execution_count": 28,
   "id": "66869ec4",
   "metadata": {},
   "outputs": [
    {
     "data": {
      "text/plain": [
       "{'Ram': [9808778723], 'Shyam': [9808778765, 9808665343]}"
      ]
     },
     "execution_count": 28,
     "metadata": {},
     "output_type": "execute_result"
    }
   ],
   "source": [
    "del d['Ram'][0]\n",
    "d"
   ]
  },
  {
   "cell_type": "code",
   "execution_count": 30,
   "id": "2fbf0835",
   "metadata": {},
   "outputs": [
    {
     "data": {
      "text/plain": [
       "{'Ram': [9800000000, 9808778723, 9808111111],\n",
       " 'Shyam': [9808778765, 9808665343]}"
      ]
     },
     "execution_count": 30,
     "metadata": {},
     "output_type": "execute_result"
    }
   ],
   "source": [
    "d = {'Ram': [9800000000, 9808778723], 'Shyam': [9808778765, 9808665343]}\n",
    "d['Ram'].append(9808111111)\n",
    "d"
   ]
  },
  {
   "cell_type": "code",
   "execution_count": null,
   "id": "e9aa6ac2",
   "metadata": {},
   "outputs": [],
   "source": [
    "# d = {'Name':['Ram','Shyam','Hari'],\n",
    "#     'Age':[78,45,28],\n",
    "#     'Add':['Kathmandu','Bhaktapur','lalitpur']}"
   ]
  },
  {
   "cell_type": "code",
   "execution_count": 31,
   "id": "b15ad69d",
   "metadata": {},
   "outputs": [
    {
     "name": "stdout",
     "output_type": "stream",
     "text": [
      "Enter n = 2\n",
      "Enter name = Ram\n",
      "Enter age = 78\n",
      "Enter add = Kathmandu\n",
      "Enter name = Shyam\n",
      "Enter age = 23\n",
      "Enter add = Bara\n",
      "{'Name': ['Ram', 'Shyam'], 'Age': ['78', '23'], 'Add': ['Kathmandu', 'Bara']}\n"
     ]
    }
   ],
   "source": [
    "data = {'Name':[],'Age':[],'Add':[]}\n",
    "n = int(input(\"Enter n = \"))\n",
    "for i in range(n):\n",
    "    name = input(\"Enter name = \")\n",
    "    age = input(\"Enter age = \")\n",
    "    add = input(\"Enter add = \")\n",
    "    \n",
    "    data['Name'].append(name)\n",
    "    data['Age'].append(age)\n",
    "    data['Add'].append(add)\n",
    "    \n",
    "print(data)"
   ]
  },
  {
   "cell_type": "code",
   "execution_count": 33,
   "id": "a6509343",
   "metadata": {},
   "outputs": [],
   "source": [
    "# Dict inside list\n",
    "data = [{'Name':'Ram','Age':45,'Add':'Kathmandu'},\n",
    "       {'Name':'Shyam','Age':25,'Add':'Bara'},\n",
    "       {'Name':'Hari','Age':55,'Add':'Bhaktapur'}]"
   ]
  },
  {
   "cell_type": "code",
   "execution_count": 34,
   "id": "69da7d56",
   "metadata": {},
   "outputs": [
    {
     "data": {
      "text/plain": [
       "{'Name': 'Ram', 'Age': 45, 'Add': 'Kathmandu'}"
      ]
     },
     "execution_count": 34,
     "metadata": {},
     "output_type": "execute_result"
    }
   ],
   "source": [
    "data[0]"
   ]
  },
  {
   "cell_type": "code",
   "execution_count": 35,
   "id": "51f1198e",
   "metadata": {},
   "outputs": [
    {
     "data": {
      "text/plain": [
       "'Ram'"
      ]
     },
     "execution_count": 35,
     "metadata": {},
     "output_type": "execute_result"
    }
   ],
   "source": [
    "data[0]['Name']"
   ]
  },
  {
   "cell_type": "code",
   "execution_count": 36,
   "id": "c3792689",
   "metadata": {},
   "outputs": [
    {
     "data": {
      "text/plain": [
       "[{'Name': 'Rama', 'Age': 45, 'Add': 'Kathmandu'},\n",
       " {'Name': 'Shyam', 'Age': 25, 'Add': 'Bara'},\n",
       " {'Name': 'Hari', 'Age': 55, 'Add': 'Bhaktapur'}]"
      ]
     },
     "execution_count": 36,
     "metadata": {},
     "output_type": "execute_result"
    }
   ],
   "source": [
    "data[0]['Name'] = 'Rama'\n",
    "data"
   ]
  },
  {
   "cell_type": "code",
   "execution_count": 38,
   "id": "8bc414b8",
   "metadata": {},
   "outputs": [
    {
     "name": "stdout",
     "output_type": "stream",
     "text": [
      "Enter n = 1\n",
      "Enter name = Ram\n",
      "Enter age = 78\n",
      "Enter add = Kathmandu\n",
      "[{'Name': 'Ram', 'Age': '78', 'Add': 'Kathmandu'}]\n"
     ]
    }
   ],
   "source": [
    "data = []\n",
    "n = int(input(\"Enter n = \"))\n",
    "for i in range(n):\n",
    "    name = input(\"Enter name = \")\n",
    "    age = input(\"Enter age = \")\n",
    "    add = input(\"Enter add = \")\n",
    "    \n",
    "    data.append({'Name':name,'Age':age,'Add':add})\n",
    "    \n",
    "print(data)"
   ]
  },
  {
   "cell_type": "code",
   "execution_count": 40,
   "id": "8fcca954",
   "metadata": {},
   "outputs": [
    {
     "data": {
      "text/plain": [
       "'Ram'"
      ]
     },
     "execution_count": 40,
     "metadata": {},
     "output_type": "execute_result"
    }
   ],
   "source": [
    "x = data[0].pop('Name')\n",
    "x"
   ]
  },
  {
   "cell_type": "code",
   "execution_count": 41,
   "id": "0cbc14b9",
   "metadata": {},
   "outputs": [
    {
     "data": {
      "text/plain": [
       "[{'Name': 'Rama', 'Age': 45, 'Add': 'Kathmandu'},\n",
       " {'Name': 'Shyama', 'Age': 45, 'Add': 'Bara'},\n",
       " {'Name': 'Shyam', 'Age': 25, 'Add': 'Bara'},\n",
       " {'Name': 'Hari', 'Age': 55, 'Add': 'Bhaktapur'}]"
      ]
     },
     "execution_count": 41,
     "metadata": {},
     "output_type": "execute_result"
    }
   ],
   "source": [
    "data = [{'Name': 'Rama', 'Age': 45, 'Add': 'Kathmandu'},\n",
    "     {'Name': 'Shyam', 'Age': 25, 'Add': 'Bara'},\n",
    "     {'Name': 'Hari', 'Age': 55, 'Add': 'Bhaktapur'}]\n",
    "data.insert(1,{'Name': 'Shyama', 'Age': 45, 'Add': 'Bara'})\n",
    "data"
   ]
  },
  {
   "cell_type": "code",
   "execution_count": 1,
   "id": "3670f62c",
   "metadata": {},
   "outputs": [
    {
     "name": "stdout",
     "output_type": "stream",
     "text": [
      "<class 'dict'>\n"
     ]
    }
   ],
   "source": [
    "# Dict inside Dict\n",
    "d = {1:{'Name': 'Rama', 'Age': 45, 'Add': 'Kathmandu'},\n",
    "    2:{'Name': 'Shyama', 'Age': 45, 'Add': 'Bara'},\n",
    "    3:{'Name': 'Shyam', 'Age': 25, 'Add': 'Bara'}}\n",
    "print(type(d))"
   ]
  },
  {
   "cell_type": "code",
   "execution_count": 2,
   "id": "1e54f6ad",
   "metadata": {},
   "outputs": [
    {
     "data": {
      "text/plain": [
       "{'Name': 'Rama', 'Age': 45, 'Add': 'Kathmandu'}"
      ]
     },
     "execution_count": 2,
     "metadata": {},
     "output_type": "execute_result"
    }
   ],
   "source": [
    "d[1]"
   ]
  },
  {
   "cell_type": "code",
   "execution_count": 3,
   "id": "144c9478",
   "metadata": {},
   "outputs": [
    {
     "data": {
      "text/plain": [
       "'Rama'"
      ]
     },
     "execution_count": 3,
     "metadata": {},
     "output_type": "execute_result"
    }
   ],
   "source": [
    "d[1]['Name']"
   ]
  },
  {
   "cell_type": "code",
   "execution_count": 5,
   "id": "8ef358ff",
   "metadata": {},
   "outputs": [
    {
     "data": {
      "text/plain": [
       "{1: {'Name': 'Rama', 'Age': 45, 'Add': 'Kathmandu'},\n",
       " 2: {'Name': 'Shyama', 'Age': 45, 'Add': 'Bara'}}"
      ]
     },
     "execution_count": 5,
     "metadata": {},
     "output_type": "execute_result"
    }
   ],
   "source": [
    "d = {}\n",
    "d[1] = {'Name': 'Rama', 'Age': 45, 'Add': 'Kathmandu'}\n",
    "d[2] = {'Name': 'Shyama', 'Age': 45, 'Add': 'Bara'}\n",
    "d"
   ]
  },
  {
   "cell_type": "code",
   "execution_count": 8,
   "id": "bf2a7989",
   "metadata": {},
   "outputs": [
    {
     "data": {
      "text/plain": [
       "{1: {'Name': 'Ram', 'Age': 25, 'Add': 'Kathmandu'},\n",
       " 2: {'Name': 'Shyama', 'Age': 45, 'Add': 'Bara'}}"
      ]
     },
     "execution_count": 8,
     "metadata": {},
     "output_type": "execute_result"
    }
   ],
   "source": [
    "d[1] = {'Name': 'Ram', 'Age': 25, 'Add': 'Kathmandu'}\n",
    "d"
   ]
  },
  {
   "cell_type": "code",
   "execution_count": 10,
   "id": "f76c06b6",
   "metadata": {},
   "outputs": [
    {
     "data": {
      "text/plain": [
       "{2: {'Name': 'Shyama', 'Age': 45, 'Add': 'Bara'}}"
      ]
     },
     "execution_count": 10,
     "metadata": {},
     "output_type": "execute_result"
    }
   ],
   "source": [
    "del d[1]\n",
    "d"
   ]
  },
  {
   "cell_type": "code",
   "execution_count": 11,
   "id": "2a0074b1",
   "metadata": {},
   "outputs": [
    {
     "data": {
      "text/plain": [
       "{2: {'Name': 'Shyama', 'Age': 45, 'Add': 'Bara'}}"
      ]
     },
     "execution_count": 11,
     "metadata": {},
     "output_type": "execute_result"
    }
   ],
   "source": [
    "d"
   ]
  },
  {
   "cell_type": "code",
   "execution_count": 12,
   "id": "7b74c6aa",
   "metadata": {},
   "outputs": [
    {
     "name": "stdout",
     "output_type": "stream",
     "text": [
      "<class 'dict'>\n"
     ]
    }
   ],
   "source": [
    "# Dict inside Dict\n",
    "d = {1:{'Name': 'Rama', 'Age': 45, 'Add': ['Kathmandu']},\n",
    "    2:{'Name': 'Shyama', 'Age': 45, 'Add': {'per':'Bara'.'temp':'Kathmandu'}},\n",
    "    3:{'Name': 'Shyam', 'Age': 25, 'Add': 'Bara'}}\n",
    "print(type(d))"
   ]
  },
  {
   "cell_type": "code",
   "execution_count": 15,
   "id": "0b961a1d",
   "metadata": {},
   "outputs": [
    {
     "data": {
      "text/plain": [
       "{('Ram', 'Shyam'): 98088786}"
      ]
     },
     "execution_count": 15,
     "metadata": {},
     "output_type": "execute_result"
    }
   ],
   "source": [
    "d = {('Ram','Shyam'):98088786}\n",
    "d"
   ]
  },
  {
   "cell_type": "code",
   "execution_count": 16,
   "id": "6eda7d2a",
   "metadata": {},
   "outputs": [
    {
     "ename": "TypeError",
     "evalue": "unhashable type: 'list'",
     "output_type": "error",
     "traceback": [
      "\u001b[1;31m---------------------------------------------------------------------------\u001b[0m",
      "\u001b[1;31mTypeError\u001b[0m                                 Traceback (most recent call last)",
      "Input \u001b[1;32mIn [16]\u001b[0m, in \u001b[0;36m<cell line: 1>\u001b[1;34m()\u001b[0m\n\u001b[1;32m----> 1\u001b[0m d \u001b[38;5;241m=\u001b[39m {[\u001b[38;5;124m'\u001b[39m\u001b[38;5;124mRam\u001b[39m\u001b[38;5;124m'\u001b[39m,\u001b[38;5;124m'\u001b[39m\u001b[38;5;124mShyam\u001b[39m\u001b[38;5;124m'\u001b[39m]:\u001b[38;5;241m98088786\u001b[39m}\n\u001b[0;32m      2\u001b[0m d\n",
      "\u001b[1;31mTypeError\u001b[0m: unhashable type: 'list'"
     ]
    }
   ],
   "source": [
    "d = {['Ram','Shyam']:98088786}\n",
    "d"
   ]
  },
  {
   "cell_type": "code",
   "execution_count": null,
   "id": "1e3d8f7d",
   "metadata": {},
   "outputs": [],
   "source": []
  }
 ],
 "metadata": {
  "kernelspec": {
   "display_name": "Python 3 (ipykernel)",
   "language": "python",
   "name": "python3"
  },
  "language_info": {
   "codemirror_mode": {
    "name": "ipython",
    "version": 3
   },
   "file_extension": ".py",
   "mimetype": "text/x-python",
   "name": "python",
   "nbconvert_exporter": "python",
   "pygments_lexer": "ipython3",
   "version": "3.9.12"
  }
 },
 "nbformat": 4,
 "nbformat_minor": 5
}
